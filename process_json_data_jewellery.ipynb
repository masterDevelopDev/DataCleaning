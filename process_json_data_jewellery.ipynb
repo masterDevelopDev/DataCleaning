{
 "cells": [
  {
   "cell_type": "code",
   "execution_count": 2,
   "id": "abdf4315",
   "metadata": {},
   "outputs": [],
   "source": [
    "import pandas as pd\n",
    "pd.set_option('display.max_rows', None)"
   ]
  },
  {
   "cell_type": "code",
   "execution_count": 12,
   "id": "04f08de7",
   "metadata": {},
   "outputs": [],
   "source": [
    "pd.set_option('display.max_columns', None)"
   ]
  },
  {
   "cell_type": "markdown",
   "id": "78a8baaf",
   "metadata": {},
   "source": [
    "### Jewellery documents"
   ]
  },
  {
   "cell_type": "code",
   "execution_count": 35,
   "id": "e9781395",
   "metadata": {},
   "outputs": [
    {
     "data": {
      "text/plain": [
       "['C:\\\\Users\\\\delll\\\\Downloads\\\\metadata\\\\ListData_Jewellery\\\\ListData_Jew03_20240203_205630.json',\n",
       " 'C:\\\\Users\\\\delll\\\\Downloads\\\\metadata\\\\ListData_Jewellery\\\\ListData_Jew2_20240126_164111.json']"
      ]
     },
     "execution_count": 35,
     "metadata": {},
     "output_type": "execute_result"
    }
   ],
   "source": [
    "import os\n",
    "\n",
    "# Specify the directory you want to search\n",
    "directory = r'C:\\Users\\delll\\Downloads\\metadata\\ListData_Jewellery'\n",
    "\n",
    "# Initialize a list to hold all the file paths\n",
    "json_files = []\n",
    "\n",
    "# Walk through directory\n",
    "for dirpath, dirnames, files in os.walk(directory):\n",
    "    for file in files:\n",
    "        if file.endswith(\".json\"):\n",
    "            json_files.append(os.path.join(dirpath, file))\n",
    "\n",
    "json_files"
   ]
  },
  {
   "cell_type": "code",
   "execution_count": 36,
   "id": "fc4ea3f4",
   "metadata": {},
   "outputs": [],
   "source": [
    "list_df_writing = []\n",
    "for json_file in json_files:\n",
    "    df = pd.read_json(json_file)\n",
    "    df['FileLeafRef'] = df['FileLeafRef'].fillna('')\n",
    "    df = df[df['FileLeafRef'].str.contains('.pdf')].drop_duplicates()\n",
    "    df['FileLeafRef'] = df['FileLeafRef'].apply(lambda x: x.replace('.aspx', ''))\n",
    "    list_df_writing.append(df)"
   ]
  },
  {
   "cell_type": "code",
   "execution_count": null,
   "id": "3ce77c85",
   "metadata": {},
   "outputs": [],
   "source": [
    "df_concatenated = pd.concat(list_df_writing, ignore_index=True).drop_duplicates()\n",
    "\n",
    "def change_year_format(year_str):\n",
    "    if year_str:\n",
    "        return int(year_str.replace(',', ''))\n",
    "    else:\n",
    "        return ''\n",
    "    \n",
    "def change_str_to_int(string):\n",
    "    if string:\n",
    "        return int(string)\n",
    "    else:\n",
    "        return 0\n",
    "    \n",
    "df_concatenated['AnneePublication'] = df_concatenated['AnneePublication'].apply(change_year_format)\n",
    "df_concatenated['Modified'] = df_concatenated['Modified'].astype(str)\n",
    "df_concatenated['Created'] = df_concatenated['Created'].astype(str)"
   ]
  },
  {
   "cell_type": "code",
   "execution_count": null,
   "id": "4ae85051",
   "metadata": {},
   "outputs": [],
   "source": [
    "remaining_columns = ['FileLeafRef', 'AnneePublication', 'BijouxType', 'QueVoyezVous',\n",
    "                     'Modified', 'Depot',  'Region', 'Created', 'Author', 'Editor']\n",
    "\n",
    "\n",
    "depot_region_mappings = {\n",
    "    \"CN\": 'Chine',\n",
    "    \"HK\": 'Hong Kong',\n",
    "    \"IFPI\": 'Suisse',\n",
    "    \"INPI\": 'France',\n",
    "    \"OHMI\": 'UE',\n",
    "    \"OMPI\": 'Monde',\n",
    "    \"USPTO\": 'USA',\n",
    "    \"\": ''\n",
    "}\n",
    "df_concatenated['Region'] = df_concatenated['Depot'].map(depot_region_mappings)\n",
    "\n",
    "df_concatenated = df_concatenated[remaining_columns]"
   ]
  },
  {
   "cell_type": "code",
   "execution_count": null,
   "id": "adaf9e54",
   "metadata": {},
   "outputs": [],
   "source": [
    "file_path = 'Downloads/original_metadata.xlsx'\n",
    "\n",
    "# Read the Excel file\n",
    "df_jewellery_metadata = pd.read_excel(file_path, sheet_name='Jewellery')\n",
    "df_jewellery_metadata = df_jewellery_metadata[['Level 0', 'Level 1', 'Level 2', 'Alias Catalog']].fillna('')\n"
   ]
  },
  {
   "cell_type": "code",
   "execution_count": 41,
   "id": "eac0db3f",
   "metadata": {},
   "outputs": [],
   "source": [
    "def concatenate_strings(row, columns):\n",
    "    list_strings = [row[col] for col in columns if row[col]][:-1]\n",
    "    return '.'.join(list_strings).lower()"
   ]
  },
  {
   "cell_type": "code",
   "execution_count": null,
   "id": "58884d1c",
   "metadata": {},
   "outputs": [],
   "source": [
    "level_columns = ['Level 0', 'Level 1', 'Level 2']\n",
    "df_jewellery_metadata['paths'] = df_jewellery_metadata.apply(lambda row: concatenate_strings(row, level_columns), axis=1)\n"
   ]
  },
  {
   "cell_type": "code",
   "execution_count": 43,
   "id": "09dee832",
   "metadata": {},
   "outputs": [
    {
     "data": {
      "text/html": [
       "<div>\n",
       "<style scoped>\n",
       "    .dataframe tbody tr th:only-of-type {\n",
       "        vertical-align: middle;\n",
       "    }\n",
       "\n",
       "    .dataframe tbody tr th {\n",
       "        vertical-align: top;\n",
       "    }\n",
       "\n",
       "    .dataframe thead th {\n",
       "        text-align: right;\n",
       "    }\n",
       "</style>\n",
       "<table border=\"1\" class=\"dataframe\">\n",
       "  <thead>\n",
       "    <tr style=\"text-align: right;\">\n",
       "      <th></th>\n",
       "      <th>Alias Catalog</th>\n",
       "      <th>paths</th>\n",
       "    </tr>\n",
       "  </thead>\n",
       "  <tbody>\n",
       "    <tr>\n",
       "      <th>0</th>\n",
       "      <td>QueVoyezVous</td>\n",
       "      <td>jewellery.que voyez vous</td>\n",
       "    </tr>\n",
       "    <tr>\n",
       "      <th>237</th>\n",
       "      <td>BijouxType</td>\n",
       "      <td>jewellery.type</td>\n",
       "    </tr>\n",
       "  </tbody>\n",
       "</table>\n",
       "</div>"
      ],
      "text/plain": [
       "    Alias Catalog                     paths\n",
       "0    QueVoyezVous  jewellery.que voyez vous\n",
       "237    BijouxType            jewellery.type"
      ]
     },
     "execution_count": 43,
     "metadata": {},
     "output_type": "execute_result"
    }
   ],
   "source": [
    "metadata_mapping = df_jewellery_metadata[['Alias Catalog', 'paths']].drop_duplicates()\n",
    "metadata_mapping"
   ]
  },
  {
   "cell_type": "code",
   "execution_count": 44,
   "id": "6945c389",
   "metadata": {},
   "outputs": [
    {
     "data": {
      "text/html": [
       "<div>\n",
       "<style scoped>\n",
       "    .dataframe tbody tr th:only-of-type {\n",
       "        vertical-align: middle;\n",
       "    }\n",
       "\n",
       "    .dataframe tbody tr th {\n",
       "        vertical-align: top;\n",
       "    }\n",
       "\n",
       "    .dataframe thead th {\n",
       "        text-align: right;\n",
       "    }\n",
       "</style>\n",
       "<table border=\"1\" class=\"dataframe\">\n",
       "  <thead>\n",
       "    <tr style=\"text-align: right;\">\n",
       "      <th></th>\n",
       "      <th>Alias Catalog</th>\n",
       "      <th>paths</th>\n",
       "    </tr>\n",
       "  </thead>\n",
       "  <tbody>\n",
       "    <tr>\n",
       "      <th>0</th>\n",
       "      <td>AnneePublication</td>\n",
       "      <td>year</td>\n",
       "    </tr>\n",
       "    <tr>\n",
       "      <th>1</th>\n",
       "      <td>Modified</td>\n",
       "      <td>modified</td>\n",
       "    </tr>\n",
       "    <tr>\n",
       "      <th>2</th>\n",
       "      <td>Created</td>\n",
       "      <td>created</td>\n",
       "    </tr>\n",
       "    <tr>\n",
       "      <th>3</th>\n",
       "      <td>Depot</td>\n",
       "      <td>depot</td>\n",
       "    </tr>\n",
       "    <tr>\n",
       "      <th>4</th>\n",
       "      <td>Region</td>\n",
       "      <td>region</td>\n",
       "    </tr>\n",
       "    <tr>\n",
       "      <th>5</th>\n",
       "      <td>Author</td>\n",
       "      <td>author</td>\n",
       "    </tr>\n",
       "    <tr>\n",
       "      <th>6</th>\n",
       "      <td>Editor</td>\n",
       "      <td>editor</td>\n",
       "    </tr>\n",
       "    <tr>\n",
       "      <th>7</th>\n",
       "      <td>FileLeafRef</td>\n",
       "      <td>filename</td>\n",
       "    </tr>\n",
       "  </tbody>\n",
       "</table>\n",
       "</div>"
      ],
      "text/plain": [
       "      Alias Catalog     paths\n",
       "0  AnneePublication      year\n",
       "1          Modified  modified\n",
       "2           Created   created\n",
       "3             Depot     depot\n",
       "4            Region    region\n",
       "5            Author    author\n",
       "6            Editor    editor\n",
       "7       FileLeafRef  filename"
      ]
     },
     "execution_count": 44,
     "metadata": {},
     "output_type": "execute_result"
    }
   ],
   "source": [
    "d = {'Alias Catalog': ['AnneePublication', 'Modified', 'Created', 'Depot', 'Region', 'Author', 'Editor', 'FileLeafRef'], \n",
    "     'paths': ['year', 'modified', 'created', 'depot', 'region', 'author', 'editor', 'filename']}\n",
    "\n",
    "df_structu_metadata = pd.DataFrame(data=d)\n",
    "df_structu_metadata"
   ]
  },
  {
   "cell_type": "code",
   "execution_count": 45,
   "id": "6112070c",
   "metadata": {
    "scrolled": true
   },
   "outputs": [
    {
     "data": {
      "text/html": [
       "<div>\n",
       "<style scoped>\n",
       "    .dataframe tbody tr th:only-of-type {\n",
       "        vertical-align: middle;\n",
       "    }\n",
       "\n",
       "    .dataframe tbody tr th {\n",
       "        vertical-align: top;\n",
       "    }\n",
       "\n",
       "    .dataframe thead th {\n",
       "        text-align: right;\n",
       "    }\n",
       "</style>\n",
       "<table border=\"1\" class=\"dataframe\">\n",
       "  <thead>\n",
       "    <tr style=\"text-align: right;\">\n",
       "      <th></th>\n",
       "      <th>Alias Catalog</th>\n",
       "      <th>paths</th>\n",
       "    </tr>\n",
       "  </thead>\n",
       "  <tbody>\n",
       "    <tr>\n",
       "      <th>0</th>\n",
       "      <td>AnneePublication</td>\n",
       "      <td>year</td>\n",
       "    </tr>\n",
       "    <tr>\n",
       "      <th>1</th>\n",
       "      <td>Modified</td>\n",
       "      <td>modified</td>\n",
       "    </tr>\n",
       "    <tr>\n",
       "      <th>2</th>\n",
       "      <td>Created</td>\n",
       "      <td>created</td>\n",
       "    </tr>\n",
       "    <tr>\n",
       "      <th>3</th>\n",
       "      <td>Depot</td>\n",
       "      <td>depot</td>\n",
       "    </tr>\n",
       "    <tr>\n",
       "      <th>4</th>\n",
       "      <td>Region</td>\n",
       "      <td>region</td>\n",
       "    </tr>\n",
       "    <tr>\n",
       "      <th>5</th>\n",
       "      <td>Author</td>\n",
       "      <td>author</td>\n",
       "    </tr>\n",
       "    <tr>\n",
       "      <th>6</th>\n",
       "      <td>Editor</td>\n",
       "      <td>editor</td>\n",
       "    </tr>\n",
       "    <tr>\n",
       "      <th>7</th>\n",
       "      <td>FileLeafRef</td>\n",
       "      <td>filename</td>\n",
       "    </tr>\n",
       "    <tr>\n",
       "      <th>8</th>\n",
       "      <td>QueVoyezVous</td>\n",
       "      <td>jewellery.que voyez vous</td>\n",
       "    </tr>\n",
       "    <tr>\n",
       "      <th>9</th>\n",
       "      <td>BijouxType</td>\n",
       "      <td>jewellery.type</td>\n",
       "    </tr>\n",
       "  </tbody>\n",
       "</table>\n",
       "</div>"
      ],
      "text/plain": [
       "      Alias Catalog                     paths\n",
       "0  AnneePublication                      year\n",
       "1          Modified                  modified\n",
       "2           Created                   created\n",
       "3             Depot                     depot\n",
       "4            Region                    region\n",
       "5            Author                    author\n",
       "6            Editor                    editor\n",
       "7       FileLeafRef                  filename\n",
       "8      QueVoyezVous  jewellery.que voyez vous\n",
       "9        BijouxType            jewellery.type"
      ]
     },
     "execution_count": 45,
     "metadata": {},
     "output_type": "execute_result"
    }
   ],
   "source": [
    "metadata_names_df = pd.concat([df_structu_metadata, metadata_mapping], ignore_index=True)\n",
    "metadata_names_df"
   ]
  },
  {
   "cell_type": "code",
   "execution_count": 46,
   "id": "712cc708",
   "metadata": {
    "scrolled": true
   },
   "outputs": [
    {
     "data": {
      "text/plain": [
       "{'AnneePublication': 'year',\n",
       " 'Modified': 'modified',\n",
       " 'Created': 'created',\n",
       " 'Depot': 'depot',\n",
       " 'Region': 'region',\n",
       " 'Author': 'author',\n",
       " 'Editor': 'editor',\n",
       " 'FileLeafRef': 'filename',\n",
       " 'QueVoyezVous': 'jewellery.que voyez vous',\n",
       " 'BijouxType': 'jewellery.type'}"
      ]
     },
     "execution_count": 46,
     "metadata": {},
     "output_type": "execute_result"
    }
   ],
   "source": [
    "metadata_names_dict = dict(zip(metadata_names_df['Alias Catalog'], metadata_names_df['paths']))\n",
    "metadata_names_dict"
   ]
  },
  {
   "cell_type": "code",
   "execution_count": 47,
   "id": "527d95b0",
   "metadata": {},
   "outputs": [],
   "source": [
    "def merge_dictionaries(list_of_dicts):\n",
    "    merged_dicts = {}\n",
    "    for d in list_of_dicts:\n",
    "        if d['path'] in merged_dicts:\n",
    "            # Extend the list of values if the path is already present\n",
    "            merged_dicts[d['path']].extend(d['values'])\n",
    "        else:\n",
    "            # Otherwise, add the new path and its values\n",
    "            merged_dicts[d['path']] = d['values']\n",
    "    # Remove duplicates from the values lists\n",
    "    for path, values in merged_dicts.items():\n",
    "        merged_dicts[path] = list(set(values))\n",
    "    # Convert the merged dictionary back to a list of dictionaries\n",
    "    merged_list_of_dicts = [{'path': path, 'values': values} for path, values in merged_dicts.items()]\n",
    "    return merged_list_of_dicts"
   ]
  },
  {
   "cell_type": "code",
   "execution_count": 48,
   "id": "4f1499d7",
   "metadata": {},
   "outputs": [
    {
     "name": "stderr",
     "output_type": "stream",
     "text": [
      "C:\\Users\\delll\\AppData\\Local\\Temp\\ipykernel_17292\\502271834.py:20: SettingWithCopyWarning: \n",
      "A value is trying to be set on a copy of a slice from a DataFrame.\n",
      "Try using .loc[row_indexer,col_indexer] = value instead\n",
      "\n",
      "See the caveats in the documentation: https://pandas.pydata.org/pandas-docs/stable/user_guide/indexing.html#returning-a-view-versus-a-copy\n",
      "  df_concatenated['dict_filter_values'] = df_concatenated.apply(lambda row: get_filter_values(row,\n"
     ]
    }
   ],
   "source": [
    "def get_filter_values(row, metadata_names_dict, cols_filter_values, cols_struct_metadata):\n",
    "    dict_file = {}\n",
    "    list_filter_values_paths = []\n",
    "    for column in cols_struct_metadata:\n",
    "        dict_file[metadata_names_dict[column]] = row[column]\n",
    "    for column in cols_filter_values:\n",
    "        values_taken = row[column]\n",
    "        if values_taken != '':\n",
    "            filter_path = metadata_names_dict[column]\n",
    "            list_values = values_taken.split('|')\n",
    "            list_filter_values_paths.append({'path': filter_path, \n",
    "                                             'values': list_values})\n",
    "    list_filter_values_paths = merge_dictionaries(list_filter_values_paths)\n",
    "    dict_file['filterValues'] = list_filter_values_paths\n",
    "    return dict_file\n",
    "        \n",
    "\n",
    "columns_filter_values = ['BijouxType', 'QueVoyezVous']\n",
    "columns_struct_metadata = ['FileLeafRef', 'AnneePublication', 'Modified', 'Depot', 'Region', 'Created', 'Author', 'Editor']\n",
    "df_concatenated['dict_filter_values'] = df_concatenated.apply(lambda row: get_filter_values(row, \n",
    "                                                                                            metadata_names_dict, \n",
    "                                                                                            columns_filter_values,\n",
    "                                                                                            columns_struct_metadata), axis=1)"
   ]
  },
  {
   "cell_type": "code",
   "execution_count": 51,
   "id": "d80a1251",
   "metadata": {},
   "outputs": [],
   "source": [
    "import json\n",
    "\n",
    "# Specify the filename\n",
    "filename = 'jewellery_documents_metadata.json'\n",
    "\n",
    "# Write JSON data to a file\n",
    "with open(filename, 'w', encoding='utf-8') as file:\n",
    "    json.dump(list(df_concatenated['dict_filter_values']), file, ensure_ascii=False, indent=4)\n"
   ]
  }
 ],
 "metadata": {
  "kernelspec": {
   "display_name": "Python 3 (ipykernel)",
   "language": "python",
   "name": "python3"
  },
  "language_info": {
   "codemirror_mode": {
    "name": "ipython",
    "version": 3
   },
   "file_extension": ".py",
   "mimetype": "text/x-python",
   "name": "python",
   "nbconvert_exporter": "python",
   "pygments_lexer": "ipython3",
   "version": "3.11.5"
  }
 },
 "nbformat": 4,
 "nbformat_minor": 5
}
